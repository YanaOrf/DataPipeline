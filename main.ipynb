{
 "cells": [
  {
   "cell_type": "code",
   "execution_count": 1,
   "metadata": {},
   "outputs": [
    {
     "name": "stdout",
     "output_type": "stream",
     "text": [
      "{'close': 131.49, 'high': 131.7, 'low': 125.02, 'open': 125.695, 'priceDate': '2023-01-17', 'symbol': 'TSLA', 'volume': 186476985, 'id': 'HISTORICAL_PRICES', 'key': 'TSLA', 'subkey': '', 'date': '2023-01-17', 'updated': 1674007215000, 'changeOverTime': 0.07426470588235297, 'marketChangeOverTime': 0.07426470588235297, 'uOpen': 125.695, 'uClose': 131.49, 'uHigh': 131.7, 'uLow': 125.02, 'uVolume': 186476985, 'fOpen': 125.695, 'fClose': 131.49, 'fHigh': 131.7, 'fLow': 125.02, 'fVolume': 186476985, 'label': 'Jan 17, 23', 'change': 9.090000000000003, 'changePercent': 0.0743}\n"
     ]
    },
    {
     "data": {
      "text/plain": [
       "{'close': 131.49,\n",
       " 'high': 131.7,\n",
       " 'low': 125.02,\n",
       " 'open': 125.695,\n",
       " 'priceDate': '2023-01-17',\n",
       " 'symbol': 'TSLA',\n",
       " 'volume': 186476985,\n",
       " 'id': 'HISTORICAL_PRICES',\n",
       " 'key': 'TSLA',\n",
       " 'subkey': '',\n",
       " 'date': '2023-01-17',\n",
       " 'updated': 1674007215000,\n",
       " 'changeOverTime': 0.07426470588235297,\n",
       " 'marketChangeOverTime': 0.07426470588235297,\n",
       " 'uOpen': 125.695,\n",
       " 'uClose': 131.49,\n",
       " 'uHigh': 131.7,\n",
       " 'uLow': 125.02,\n",
       " 'uVolume': 186476985,\n",
       " 'fOpen': 125.695,\n",
       " 'fClose': 131.49,\n",
       " 'fHigh': 131.7,\n",
       " 'fLow': 125.02,\n",
       " 'fVolume': 186476985,\n",
       " 'label': 'Jan 17, 23',\n",
       " 'change': 9.090000000000003,\n",
       " 'changePercent': 0.0743}"
      ]
     },
     "execution_count": 1,
     "metadata": {},
     "output_type": "execute_result"
    }
   ],
   "source": [
    "import urllib3\n",
    "import json\n",
    "def get_data():\n",
    "    http = urllib3.PoolManager()\n",
    "    url = \"https://cloud.iexapis.com/stable/stock/tsla/previous?token=pk_8c1b9e2e916447dfbc27191e895e212b\"\n",
    "    resp = http.request(\"GET\", url)\n",
    "    values = json.loads(resp.data)\n",
    "    print(values)\n",
    "    return values\n",
    "get_data() "
   ]
  }
 ],
 "metadata": {
  "kernelspec": {
   "display_name": "Python 3.8.16 ('Python_3_8')",
   "language": "python",
   "name": "python3"
  },
  "language_info": {
   "codemirror_mode": {
    "name": "ipython",
    "version": 3
   },
   "file_extension": ".py",
   "mimetype": "text/x-python",
   "name": "python",
   "nbconvert_exporter": "python",
   "pygments_lexer": "ipython3",
   "version": "3.8.16"
  },
  "orig_nbformat": 4,
  "vscode": {
   "interpreter": {
    "hash": "5eca9d9a01420d96675fd81255ba5146a71d45a2a59dd821f8b94bf78f62b77b"
   }
  }
 },
 "nbformat": 4,
 "nbformat_minor": 2
}
